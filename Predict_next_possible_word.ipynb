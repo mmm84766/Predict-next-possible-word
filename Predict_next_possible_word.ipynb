{
  "nbformat": 4,
  "nbformat_minor": 0,
  "metadata": {
    "colab": {
      "name": "Predict next possible-word.ipynb",
      "provenance": [],
      "include_colab_link": true
    },
    "kernelspec": {
      "name": "python3",
      "display_name": "Python 3"
    },
    "accelerator": "TPU"
  },
  "cells": [
    {
      "cell_type": "markdown",
      "metadata": {
        "id": "view-in-github",
        "colab_type": "text"
      },
      "source": [
        "<a href=\"https://colab.research.google.com/github/mmm84766/Predict-next-possible-word/blob/master/Predict_next_possible_word.ipynb\" target=\"_parent\"><img src=\"https://colab.research.google.com/assets/colab-badge.svg\" alt=\"Open In Colab\"/></a>"
      ]
    },
    {
      "cell_type": "code",
      "metadata": {
        "id": "KEjotMmtNFqw",
        "colab_type": "code",
        "colab": {
          "base_uri": "https://localhost:8080/",
          "height": 34
        },
        "outputId": "9da689fa-fb10-49ca-8ab6-360b3408a8d3"
      },
      "source": [
        "# Import Library\n",
        "import numpy as np\n",
        "import pandas as pd\n",
        "from keras.utils import to_categorical\n",
        "from keras.preprocessing.sequence import pad_sequences\n",
        "from keras.models import Sequential\n",
        "from keras.layers import LSTM, Dense, GRU, Embedding\n",
        "from keras.callbacks import EarlyStopping, ModelCheckpoint"
      ],
      "execution_count": 1,
      "outputs": [
        {
          "output_type": "stream",
          "text": [
            "Using TensorFlow backend.\n"
          ],
          "name": "stderr"
        }
      ]
    },
    {
      "cell_type": "code",
      "metadata": {
        "id": "vWcKOSViNm_1",
        "colab_type": "code",
        "colab": {}
      },
      "source": [
        "# Load DataSet\n",
        "data_text = \"\"\"Just A Rather Very Intelligent System a.k.a JARVIS is created by Tony Stark natural-language and a sophisticated artificial intelligence user interface computer system, named after Edwin Jarvis, the butler\n",
        "who worked for Howard Stark. Though its primary duty is to automate Stark’s Malibu estate, the lifelike program fulfills many other needs for Stark, like being an information source for him, a diagnostic tool, a\n",
        "consultant and a voice of reason in Stark’s life. It was also responsible to provide security for Tony Stark's Mansion and Stark Tower. After creating the Mark II armor, Stark uploaded JARVIS into all of\n",
        "the Iron Man Armors, as well as allowing him to interact with the other Avengers, giving them valuable information during combat. JARVIS may be the one intellect Stark feels most comfortable opening up to.\n",
        "JARVIS can object to Stark’s commands if necessary. JARVIS speaks with a refined British accent, and is capable of back talk, sarcasm and condescension. During the Ultron Offensive, JARVIS was destroyed\n",
        "by Ultron, although his remaining programming codes unknowingly continued to thwart Ultron's plans of gaining access to nuclear missiles. His remains were found by Stark, who uploaded them into a synthetic\n",
        "body made of vibranium and, in conjunction with Ultron's personality and an Infinity Stone. JARVIS' duties were then taken over by FRIDAY.\"\"\""
      ],
      "execution_count": 0,
      "outputs": []
    },
    {
      "cell_type": "code",
      "metadata": {
        "id": "SP60e-5eN99s",
        "colab_type": "code",
        "colab": {}
      },
      "source": [
        "import re\n",
        "\n",
        "def text_cleaner(text):\n",
        "    # lower case text\n",
        "    newString = text.lower()\n",
        "    newString = re.sub(r\"'s\\b\",\"\",newString)\n",
        "    # remove punctuations\n",
        "    newString = re.sub(\"[^a-zA-Z]\", \" \", newString) \n",
        "    long_words=[]\n",
        "    # remove short word\n",
        "    for i in newString.split():\n",
        "        if len(i)>=3:                  \n",
        "            long_words.append(i)\n",
        "    return (\" \".join(long_words)).strip()\n",
        "\n",
        "# preprocess the text\n",
        "data_new = text_cleaner(data_text)"
      ],
      "execution_count": 0,
      "outputs": []
    },
    {
      "cell_type": "code",
      "metadata": {
        "id": "aQDiQXVuOIRS",
        "colab_type": "code",
        "colab": {
          "base_uri": "https://localhost:8080/",
          "height": 34
        },
        "outputId": "6660e3ed-2b89-4753-a21c-6d2bf1c0cdce"
      },
      "source": [
        "def create_seq(text):\n",
        "    length = 30\n",
        "    sequences = list()\n",
        "    for i in range(length, len(text)):\n",
        "        # select sequence of tokens\n",
        "        seq = text[i-length:i+1]\n",
        "        # store\n",
        "        sequences.append(seq)\n",
        "    print('Total Sequences: %d' % len(sequences))\n",
        "    return sequences\n",
        "\n",
        "# create sequences   \n",
        "sequences = create_seq(data_new)"
      ],
      "execution_count": 4,
      "outputs": [
        {
          "output_type": "stream",
          "text": [
            "Total Sequences: 1197\n"
          ],
          "name": "stdout"
        }
      ]
    },
    {
      "cell_type": "code",
      "metadata": {
        "id": "9d8oyC6EOQ1N",
        "colab_type": "code",
        "colab": {}
      },
      "source": [
        "# create a character mapping index\n",
        "chars = sorted(list(set(data_new)))\n",
        "mapping = dict((c, i) for i, c in enumerate(chars))\n",
        "\n",
        "def encode_seq(seq):\n",
        "    sequences = list()\n",
        "    for line in seq:\n",
        "        # integer encode line\n",
        "        encoded_seq = [mapping[char] for char in line]\n",
        "        # store\n",
        "        sequences.append(encoded_seq)\n",
        "    return sequences\n",
        "\n",
        "# encode the sequences\n",
        "sequences = encode_seq(sequences)"
      ],
      "execution_count": 0,
      "outputs": []
    },
    {
      "cell_type": "code",
      "metadata": {
        "id": "p166nfTyObPB",
        "colab_type": "code",
        "colab": {
          "base_uri": "https://localhost:8080/",
          "height": 34
        },
        "outputId": "84433d04-6596-4c7b-c890-75139f211e4a"
      },
      "source": [
        "from sklearn.model_selection import train_test_split\n",
        "\n",
        "# vocabulary size\n",
        "vocab = len(mapping)\n",
        "sequences = np.array(sequences)\n",
        "# create X and y\n",
        "X, y = sequences[:,:-1], sequences[:,-1]\n",
        "# one hot encode y\n",
        "y = to_categorical(y, num_classes=vocab)\n",
        "# create train and validation sets\n",
        "X_tr, X_val, y_tr, y_val = train_test_split(X, y, test_size=0.1, random_state=42)\n",
        "\n",
        "print('Train shape:', X_tr.shape, 'Val shape:', X_val.shape)"
      ],
      "execution_count": 6,
      "outputs": [
        {
          "output_type": "stream",
          "text": [
            "Train shape: (1077, 30) Val shape: (120, 30)\n"
          ],
          "name": "stdout"
        }
      ]
    },
    {
      "cell_type": "code",
      "metadata": {
        "id": "3508J8bVOi8O",
        "colab_type": "code",
        "colab": {
          "base_uri": "https://localhost:8080/",
          "height": 394
        },
        "outputId": "73cba02c-c3e5-4691-a124-d2557e7216eb"
      },
      "source": [
        "# define model\n",
        "model = Sequential()\n",
        "model.add(Embedding(vocab, 50, input_length=30, trainable=True))\n",
        "model.add(GRU(150))\n",
        "model.add(Dense(vocab, activation='softmax'))\n",
        "print(model.summary())"
      ],
      "execution_count": 7,
      "outputs": [
        {
          "output_type": "stream",
          "text": [
            "WARNING:tensorflow:From /usr/local/lib/python3.6/dist-packages/keras/backend/tensorflow_backend.py:66: The name tf.get_default_graph is deprecated. Please use tf.compat.v1.get_default_graph instead.\n",
            "\n",
            "WARNING:tensorflow:From /usr/local/lib/python3.6/dist-packages/keras/backend/tensorflow_backend.py:541: The name tf.placeholder is deprecated. Please use tf.compat.v1.placeholder instead.\n",
            "\n",
            "WARNING:tensorflow:From /usr/local/lib/python3.6/dist-packages/keras/backend/tensorflow_backend.py:4432: The name tf.random_uniform is deprecated. Please use tf.random.uniform instead.\n",
            "\n",
            "Model: \"sequential_1\"\n",
            "_________________________________________________________________\n",
            "Layer (type)                 Output Shape              Param #   \n",
            "=================================================================\n",
            "embedding_1 (Embedding)      (None, 30, 50)            1200      \n",
            "_________________________________________________________________\n",
            "gru_1 (GRU)                  (None, 150)               90450     \n",
            "_________________________________________________________________\n",
            "dense_1 (Dense)              (None, 24)                3624      \n",
            "=================================================================\n",
            "Total params: 95,274\n",
            "Trainable params: 95,274\n",
            "Non-trainable params: 0\n",
            "_________________________________________________________________\n",
            "None\n"
          ],
          "name": "stdout"
        }
      ]
    },
    {
      "cell_type": "code",
      "metadata": {
        "id": "QmI_HxOMOyvI",
        "colab_type": "code",
        "colab": {
          "base_uri": "https://localhost:8080/",
          "height": 105
        },
        "outputId": "efd7da1a-3589-43c1-8a5d-127b78769dbe"
      },
      "source": [
        "\n",
        "# compile the model\n",
        "model.compile(loss='categorical_crossentropy', metrics=['acc'], optimizer='adam')"
      ],
      "execution_count": 8,
      "outputs": [
        {
          "output_type": "stream",
          "text": [
            "WARNING:tensorflow:From /usr/local/lib/python3.6/dist-packages/keras/optimizers.py:793: The name tf.train.Optimizer is deprecated. Please use tf.compat.v1.train.Optimizer instead.\n",
            "\n",
            "WARNING:tensorflow:From /usr/local/lib/python3.6/dist-packages/keras/backend/tensorflow_backend.py:3576: The name tf.log is deprecated. Please use tf.math.log instead.\n",
            "\n"
          ],
          "name": "stdout"
        }
      ]
    },
    {
      "cell_type": "code",
      "metadata": {
        "id": "5zaJelDIPb5Q",
        "colab_type": "code",
        "colab": {
          "base_uri": "https://localhost:8080/",
          "height": 1000
        },
        "outputId": "cd0d06ff-611e-4987-bb4e-6a64f6bfc69f"
      },
      "source": [
        "# fit the model\n",
        "model.fit(X_tr, y_tr, epochs=100, verbose=2, validation_data=(X_val, y_val))"
      ],
      "execution_count": 9,
      "outputs": [
        {
          "output_type": "stream",
          "text": [
            "WARNING:tensorflow:From /usr/local/lib/python3.6/dist-packages/tensorflow/python/ops/math_grad.py:1250: add_dispatch_support.<locals>.wrapper (from tensorflow.python.ops.array_ops) is deprecated and will be removed in a future version.\n",
            "Instructions for updating:\n",
            "Use tf.where in 2.0, which has the same broadcast rule as np.where\n",
            "WARNING:tensorflow:From /usr/local/lib/python3.6/dist-packages/keras/backend/tensorflow_backend.py:1033: The name tf.assign_add is deprecated. Please use tf.compat.v1.assign_add instead.\n",
            "\n",
            "Train on 1077 samples, validate on 120 samples\n",
            "Epoch 1/100\n",
            " - 2s - loss: 3.0378 - acc: 0.1309 - val_loss: 3.0893 - val_acc: 0.1167\n",
            "Epoch 2/100\n",
            " - 1s - loss: 2.8809 - acc: 0.1495 - val_loss: 3.0586 - val_acc: 0.1167\n",
            "Epoch 3/100\n",
            " - 1s - loss: 2.8296 - acc: 0.1606 - val_loss: 2.9912 - val_acc: 0.1500\n",
            "Epoch 4/100\n",
            " - 1s - loss: 2.7130 - acc: 0.2386 - val_loss: 2.8353 - val_acc: 0.1917\n",
            "Epoch 5/100\n",
            " - 1s - loss: 2.5350 - acc: 0.2721 - val_loss: 2.7461 - val_acc: 0.2250\n",
            "Epoch 6/100\n",
            " - 1s - loss: 2.3900 - acc: 0.2953 - val_loss: 2.5330 - val_acc: 0.2333\n",
            "Epoch 7/100\n",
            " - 1s - loss: 2.2810 - acc: 0.3110 - val_loss: 2.4728 - val_acc: 0.2667\n",
            "Epoch 8/100\n",
            " - 1s - loss: 2.1854 - acc: 0.3408 - val_loss: 2.4464 - val_acc: 0.3000\n",
            "Epoch 9/100\n",
            " - 1s - loss: 2.1065 - acc: 0.3621 - val_loss: 2.3769 - val_acc: 0.2833\n",
            "Epoch 10/100\n",
            " - 1s - loss: 2.0359 - acc: 0.3928 - val_loss: 2.3434 - val_acc: 0.2917\n",
            "Epoch 11/100\n",
            " - 1s - loss: 1.9734 - acc: 0.4085 - val_loss: 2.3715 - val_acc: 0.3333\n",
            "Epoch 12/100\n",
            " - 1s - loss: 1.9025 - acc: 0.4299 - val_loss: 2.3548 - val_acc: 0.3500\n",
            "Epoch 13/100\n",
            " - 1s - loss: 1.8451 - acc: 0.4550 - val_loss: 2.4714 - val_acc: 0.3083\n",
            "Epoch 14/100\n",
            " - 1s - loss: 1.7900 - acc: 0.4559 - val_loss: 2.4157 - val_acc: 0.2750\n",
            "Epoch 15/100\n",
            " - 1s - loss: 1.7439 - acc: 0.4717 - val_loss: 2.5028 - val_acc: 0.2833\n",
            "Epoch 16/100\n",
            " - 1s - loss: 1.6720 - acc: 0.4986 - val_loss: 2.4843 - val_acc: 0.3333\n",
            "Epoch 17/100\n",
            " - 1s - loss: 1.5948 - acc: 0.5190 - val_loss: 2.5427 - val_acc: 0.3250\n",
            "Epoch 18/100\n",
            " - 1s - loss: 1.5143 - acc: 0.5357 - val_loss: 2.5939 - val_acc: 0.3333\n",
            "Epoch 19/100\n",
            " - 1s - loss: 1.4423 - acc: 0.5590 - val_loss: 2.5888 - val_acc: 0.2917\n",
            "Epoch 20/100\n",
            " - 1s - loss: 1.3386 - acc: 0.6035 - val_loss: 2.6542 - val_acc: 0.3083\n",
            "Epoch 21/100\n",
            " - 1s - loss: 1.2575 - acc: 0.6156 - val_loss: 2.7263 - val_acc: 0.2917\n",
            "Epoch 22/100\n",
            " - 1s - loss: 1.1726 - acc: 0.6518 - val_loss: 2.7838 - val_acc: 0.3250\n",
            "Epoch 23/100\n",
            " - 1s - loss: 1.0669 - acc: 0.7029 - val_loss: 2.8238 - val_acc: 0.3083\n",
            "Epoch 24/100\n",
            " - 1s - loss: 0.9769 - acc: 0.7242 - val_loss: 2.7926 - val_acc: 0.3333\n",
            "Epoch 25/100\n",
            " - 1s - loss: 0.8877 - acc: 0.7577 - val_loss: 2.9713 - val_acc: 0.3000\n",
            "Epoch 26/100\n",
            " - 1s - loss: 0.7967 - acc: 0.7929 - val_loss: 3.1208 - val_acc: 0.2583\n",
            "Epoch 27/100\n",
            " - 1s - loss: 0.7059 - acc: 0.8189 - val_loss: 3.0917 - val_acc: 0.3083\n",
            "Epoch 28/100\n",
            " - 1s - loss: 0.6285 - acc: 0.8449 - val_loss: 3.0997 - val_acc: 0.2917\n",
            "Epoch 29/100\n",
            " - 1s - loss: 0.5567 - acc: 0.8756 - val_loss: 3.1620 - val_acc: 0.3083\n",
            "Epoch 30/100\n",
            " - 1s - loss: 0.4875 - acc: 0.9053 - val_loss: 3.2991 - val_acc: 0.3000\n",
            "Epoch 31/100\n",
            " - 1s - loss: 0.4148 - acc: 0.9248 - val_loss: 3.3500 - val_acc: 0.2917\n",
            "Epoch 32/100\n",
            " - 1s - loss: 0.3656 - acc: 0.9461 - val_loss: 3.3935 - val_acc: 0.3083\n",
            "Epoch 33/100\n",
            " - 1s - loss: 0.3152 - acc: 0.9517 - val_loss: 3.4755 - val_acc: 0.2667\n",
            "Epoch 34/100\n",
            " - 1s - loss: 0.2773 - acc: 0.9740 - val_loss: 3.5351 - val_acc: 0.3000\n",
            "Epoch 35/100\n",
            " - 1s - loss: 0.2333 - acc: 0.9842 - val_loss: 3.6278 - val_acc: 0.2667\n",
            "Epoch 36/100\n",
            " - 1s - loss: 0.2023 - acc: 0.9851 - val_loss: 3.7119 - val_acc: 0.2917\n",
            "Epoch 37/100\n",
            " - 1s - loss: 0.1742 - acc: 0.9907 - val_loss: 3.7039 - val_acc: 0.3083\n",
            "Epoch 38/100\n",
            " - 1s - loss: 0.1507 - acc: 0.9926 - val_loss: 3.8333 - val_acc: 0.3000\n",
            "Epoch 39/100\n",
            " - 1s - loss: 0.1291 - acc: 0.9944 - val_loss: 3.8455 - val_acc: 0.2833\n",
            "Epoch 40/100\n",
            " - 1s - loss: 0.1127 - acc: 0.9944 - val_loss: 3.8905 - val_acc: 0.2917\n",
            "Epoch 41/100\n",
            " - 1s - loss: 0.0999 - acc: 0.9972 - val_loss: 3.9584 - val_acc: 0.2917\n",
            "Epoch 42/100\n",
            " - 1s - loss: 0.0855 - acc: 0.9991 - val_loss: 4.0763 - val_acc: 0.2917\n",
            "Epoch 43/100\n",
            " - 1s - loss: 0.0765 - acc: 0.9981 - val_loss: 4.0227 - val_acc: 0.3083\n",
            "Epoch 44/100\n",
            " - 1s - loss: 0.0685 - acc: 0.9991 - val_loss: 4.1031 - val_acc: 0.3000\n",
            "Epoch 45/100\n",
            " - 1s - loss: 0.0632 - acc: 1.0000 - val_loss: 4.1597 - val_acc: 0.2917\n",
            "Epoch 46/100\n",
            " - 1s - loss: 0.0563 - acc: 0.9991 - val_loss: 4.1879 - val_acc: 0.2917\n",
            "Epoch 47/100\n",
            " - 1s - loss: 0.0513 - acc: 1.0000 - val_loss: 4.1813 - val_acc: 0.3083\n",
            "Epoch 48/100\n",
            " - 1s - loss: 0.0449 - acc: 1.0000 - val_loss: 4.2325 - val_acc: 0.2917\n",
            "Epoch 49/100\n",
            " - 1s - loss: 0.0400 - acc: 1.0000 - val_loss: 4.2447 - val_acc: 0.2833\n",
            "Epoch 50/100\n",
            " - 1s - loss: 0.0365 - acc: 1.0000 - val_loss: 4.2684 - val_acc: 0.3000\n",
            "Epoch 51/100\n",
            " - 1s - loss: 0.0337 - acc: 1.0000 - val_loss: 4.3351 - val_acc: 0.2917\n",
            "Epoch 52/100\n",
            " - 1s - loss: 0.0311 - acc: 1.0000 - val_loss: 4.3571 - val_acc: 0.3000\n",
            "Epoch 53/100\n",
            " - 1s - loss: 0.0285 - acc: 1.0000 - val_loss: 4.3836 - val_acc: 0.2917\n",
            "Epoch 54/100\n",
            " - 1s - loss: 0.0263 - acc: 1.0000 - val_loss: 4.3844 - val_acc: 0.2917\n",
            "Epoch 55/100\n",
            " - 1s - loss: 0.0244 - acc: 1.0000 - val_loss: 4.4026 - val_acc: 0.2917\n",
            "Epoch 56/100\n",
            " - 1s - loss: 0.0230 - acc: 1.0000 - val_loss: 4.4644 - val_acc: 0.2833\n",
            "Epoch 57/100\n",
            " - 1s - loss: 0.0211 - acc: 1.0000 - val_loss: 4.4637 - val_acc: 0.2750\n",
            "Epoch 58/100\n",
            " - 1s - loss: 0.0199 - acc: 1.0000 - val_loss: 4.4645 - val_acc: 0.3000\n",
            "Epoch 59/100\n",
            " - 1s - loss: 0.0185 - acc: 1.0000 - val_loss: 4.5177 - val_acc: 0.2917\n",
            "Epoch 60/100\n",
            " - 1s - loss: 0.0175 - acc: 1.0000 - val_loss: 4.5233 - val_acc: 0.2833\n",
            "Epoch 61/100\n",
            " - 1s - loss: 0.0165 - acc: 1.0000 - val_loss: 4.5411 - val_acc: 0.2833\n",
            "Epoch 62/100\n",
            " - 1s - loss: 0.0156 - acc: 1.0000 - val_loss: 4.5635 - val_acc: 0.2833\n",
            "Epoch 63/100\n",
            " - 1s - loss: 0.0146 - acc: 1.0000 - val_loss: 4.5754 - val_acc: 0.2750\n",
            "Epoch 64/100\n",
            " - 1s - loss: 0.0138 - acc: 1.0000 - val_loss: 4.5519 - val_acc: 0.2917\n",
            "Epoch 65/100\n",
            " - 1s - loss: 0.0131 - acc: 1.0000 - val_loss: 4.6072 - val_acc: 0.2833\n",
            "Epoch 66/100\n",
            " - 1s - loss: 0.0126 - acc: 1.0000 - val_loss: 4.6083 - val_acc: 0.2833\n",
            "Epoch 67/100\n",
            " - 1s - loss: 0.0119 - acc: 1.0000 - val_loss: 4.6190 - val_acc: 0.2917\n",
            "Epoch 68/100\n",
            " - 1s - loss: 0.0113 - acc: 1.0000 - val_loss: 4.6449 - val_acc: 0.2667\n",
            "Epoch 69/100\n",
            " - 1s - loss: 0.0106 - acc: 1.0000 - val_loss: 4.6524 - val_acc: 0.2833\n",
            "Epoch 70/100\n",
            " - 1s - loss: 0.0101 - acc: 1.0000 - val_loss: 4.6805 - val_acc: 0.2750\n",
            "Epoch 71/100\n",
            " - 1s - loss: 0.0096 - acc: 1.0000 - val_loss: 4.6862 - val_acc: 0.2917\n",
            "Epoch 72/100\n",
            " - 1s - loss: 0.0092 - acc: 1.0000 - val_loss: 4.7110 - val_acc: 0.2833\n",
            "Epoch 73/100\n",
            " - 1s - loss: 0.0088 - acc: 1.0000 - val_loss: 4.7229 - val_acc: 0.2917\n",
            "Epoch 74/100\n",
            " - 1s - loss: 0.0084 - acc: 1.0000 - val_loss: 4.7280 - val_acc: 0.2917\n",
            "Epoch 75/100\n",
            " - 1s - loss: 0.0080 - acc: 1.0000 - val_loss: 4.7541 - val_acc: 0.2750\n",
            "Epoch 76/100\n",
            " - 1s - loss: 0.0076 - acc: 1.0000 - val_loss: 4.7411 - val_acc: 0.3000\n",
            "Epoch 77/100\n",
            " - 1s - loss: 0.0073 - acc: 1.0000 - val_loss: 4.7958 - val_acc: 0.3000\n",
            "Epoch 78/100\n",
            " - 1s - loss: 0.0070 - acc: 1.0000 - val_loss: 4.7871 - val_acc: 0.3083\n",
            "Epoch 79/100\n",
            " - 1s - loss: 0.0067 - acc: 1.0000 - val_loss: 4.7914 - val_acc: 0.3000\n",
            "Epoch 80/100\n",
            " - 1s - loss: 0.0064 - acc: 1.0000 - val_loss: 4.8165 - val_acc: 0.3000\n",
            "Epoch 81/100\n",
            " - 1s - loss: 0.0062 - acc: 1.0000 - val_loss: 4.8297 - val_acc: 0.3000\n",
            "Epoch 82/100\n",
            " - 1s - loss: 0.0059 - acc: 1.0000 - val_loss: 4.8362 - val_acc: 0.3000\n",
            "Epoch 83/100\n",
            " - 1s - loss: 0.0057 - acc: 1.0000 - val_loss: 4.8415 - val_acc: 0.3000\n",
            "Epoch 84/100\n",
            " - 1s - loss: 0.0055 - acc: 1.0000 - val_loss: 4.8558 - val_acc: 0.3083\n",
            "Epoch 85/100\n",
            " - 1s - loss: 0.0053 - acc: 1.0000 - val_loss: 4.8834 - val_acc: 0.2917\n",
            "Epoch 86/100\n",
            " - 1s - loss: 0.0051 - acc: 1.0000 - val_loss: 4.8757 - val_acc: 0.2917\n",
            "Epoch 87/100\n",
            " - 1s - loss: 0.0049 - acc: 1.0000 - val_loss: 4.8948 - val_acc: 0.2917\n",
            "Epoch 88/100\n",
            " - 1s - loss: 0.0047 - acc: 1.0000 - val_loss: 4.9011 - val_acc: 0.2917\n",
            "Epoch 89/100\n",
            " - 1s - loss: 0.0045 - acc: 1.0000 - val_loss: 4.9180 - val_acc: 0.2917\n",
            "Epoch 90/100\n",
            " - 1s - loss: 0.0044 - acc: 1.0000 - val_loss: 4.9166 - val_acc: 0.3000\n",
            "Epoch 91/100\n",
            " - 1s - loss: 0.0042 - acc: 1.0000 - val_loss: 4.9462 - val_acc: 0.2917\n",
            "Epoch 92/100\n",
            " - 1s - loss: 0.0041 - acc: 1.0000 - val_loss: 4.9371 - val_acc: 0.3083\n",
            "Epoch 93/100\n",
            " - 1s - loss: 0.0041 - acc: 1.0000 - val_loss: 4.9348 - val_acc: 0.2917\n",
            "Epoch 94/100\n",
            " - 1s - loss: 0.0045 - acc: 1.0000 - val_loss: 4.9579 - val_acc: 0.3000\n",
            "Epoch 95/100\n",
            " - 1s - loss: 0.0038 - acc: 1.0000 - val_loss: 4.9445 - val_acc: 0.3000\n",
            "Epoch 96/100\n",
            " - 1s - loss: 0.0036 - acc: 1.0000 - val_loss: 4.9706 - val_acc: 0.3083\n",
            "Epoch 97/100\n",
            " - 1s - loss: 0.0034 - acc: 1.0000 - val_loss: 4.9737 - val_acc: 0.3000\n",
            "Epoch 98/100\n",
            " - 1s - loss: 0.0033 - acc: 1.0000 - val_loss: 4.9930 - val_acc: 0.3083\n",
            "Epoch 99/100\n",
            " - 1s - loss: 0.0032 - acc: 1.0000 - val_loss: 5.0022 - val_acc: 0.2833\n",
            "Epoch 100/100\n",
            " - 1s - loss: 0.0031 - acc: 1.0000 - val_loss: 5.0016 - val_acc: 0.3083\n"
          ],
          "name": "stdout"
        },
        {
          "output_type": "execute_result",
          "data": {
            "text/plain": [
              "<keras.callbacks.History at 0x7fe973328c18>"
            ]
          },
          "metadata": {
            "tags": []
          },
          "execution_count": 9
        }
      ]
    },
    {
      "cell_type": "code",
      "metadata": {
        "id": "VteLTNQLRl5k",
        "colab_type": "code",
        "colab": {}
      },
      "source": [
        "# generate a sequence of characters with a language model\n",
        "def generate_seq(model, mapping, seq_length, seed_text, n_chars):\n",
        "\tin_text = seed_text\n",
        "\t# generate a fixed number of characters\n",
        "\tfor _ in range(n_chars):\n",
        "\t\t# encode the characters as integers\n",
        "\t\tencoded = [mapping[char] for char in in_text]\n",
        "\t\t# truncate sequences to a fixed length\n",
        "\t\tencoded = pad_sequences([encoded], maxlen=seq_length, truncating='pre')\n",
        "\t\t# predict character\n",
        "\t\tyhat = model.predict_classes(encoded, verbose=0)\n",
        "\t\t# reverse map integer to character\n",
        "\t\tout_char = ''\n",
        "\t\tfor char, index in mapping.items():\n",
        "\t\t\tif index == yhat:\n",
        "\t\t\t\tout_char = char\n",
        "\t\t\t\tbreak\n",
        "\t\t# append to input\n",
        "\t\tin_text += char\n",
        "\treturn in_text"
      ],
      "execution_count": 0,
      "outputs": []
    },
    {
      "cell_type": "code",
      "metadata": {
        "id": "imubOLi0Qgyk",
        "colab_type": "code",
        "colab": {
          "base_uri": "https://localhost:8080/",
          "height": 51
        },
        "outputId": "d5e8d9c6-6cca-4ff8-c63d-0b92244a63e3"
      },
      "source": [
        "# Test of Our_Model\n",
        "inp = 'JARVIS was destroyed'\n",
        "print(len(inp))\n",
        "print(generate_seq(model, mapping, 30, inp.lower(), 8))"
      ],
      "execution_count": 11,
      "outputs": [
        {
          "output_type": "stream",
          "text": [
            "20\n",
            "jarvis was destroyed ultron \n"
          ],
          "name": "stdout"
        }
      ]
    },
    {
      "cell_type": "code",
      "metadata": {
        "id": "5bSOwMygSKqZ",
        "colab_type": "code",
        "colab": {
          "base_uri": "https://localhost:8080/",
          "height": 51
        },
        "outputId": "0e909a10-69c6-4dd0-9cca-0180daf8ea98"
      },
      "source": [
        "inp = \"JARVIS is created by\"\n",
        "print(len(inp))\n",
        "print(generate_seq(model, mapping, 30, inp.lower(), 8))"
      ],
      "execution_count": 14,
      "outputs": [
        {
          "output_type": "stream",
          "text": [
            "20\n",
            "jarvis is created byd stark \n"
          ],
          "name": "stdout"
        }
      ]
    },
    {
      "cell_type": "code",
      "metadata": {
        "id": "izDQhAgcr88N",
        "colab_type": "code",
        "colab": {}
      },
      "source": [
        ""
      ],
      "execution_count": 0,
      "outputs": []
    }
  ]
}